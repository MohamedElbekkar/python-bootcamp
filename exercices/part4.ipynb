{
 "cells": [
  {
   "cell_type": "markdown",
   "metadata": {},
   "source": [
    "### Exercice 1:"
   ]
  },
  {
   "cell_type": "markdown",
   "metadata": {},
   "source": [
    "Write a Python class named square constructed by a length and two methods which will compute the area and the perimeter of the square."
   ]
  },
  {
   "cell_type": "code",
   "execution_count": 11,
   "metadata": {},
   "outputs": [],
   "source": [
    "class square():\n",
    "    def __init__(self, length):\n",
    "        self.length=length\n",
    "    def area(self):\n",
    "        return self.length**2\n",
    "    def perimeter(self):\n",
    "        return 4*self.length\n",
    "#mysquare=square(10)\n",
    "#print(mysquare.area())\n",
    "#print(mysquare.perimeter())"
   ]
  },
  {
   "cell_type": "markdown",
   "metadata": {},
   "source": [
    "### Exercice 2:"
   ]
  },
  {
   "cell_type": "markdown",
   "metadata": {},
   "source": [
    "Write a python class rectangle that inherits from the square class."
   ]
  },
  {
   "cell_type": "code",
   "execution_count": 20,
   "metadata": {},
   "outputs": [
    {
     "name": "stdout",
     "output_type": "stream",
     "text": [
      "20\n",
      "24\n"
     ]
    }
   ],
   "source": [
    "class rectangle(square):\n",
    "        def __init__(self,length,width):\n",
    "            self.width=width\n",
    "            super(rectangle,self).__init__(length)\n",
    "        def area(self):\n",
    "            return self.length*self.width\n",
    "        def perimeter(self):\n",
    "            return 2*self.length + 2*self.width\n",
    "    \n",
    " \n",
    "        \n",
    "mysquare=rectangle(10,2)\n",
    "print(mysquare.area())\n",
    "print(mysquare.perimeter())\n"
   ]
  },
  {
   "cell_type": "markdown",
   "metadata": {},
   "source": [
    "### Exercice 3:"
   ]
  },
  {
   "cell_type": "code",
   "execution_count": 23,
   "metadata": {},
   "outputs": [],
   "source": [
    "class SampleClass:\n",
    "\n",
    "    def __init__(self, a):\n",
    "        ## private varibale in Python\n",
    "        self.__a = a\n",
    "\n",
    "x = SampleClass(3)\n",
    "print(x.a)\n",
    "x.a = 23\n",
    "print(x.a)\n "
   ]
  },
  {
   "cell_type": "markdown",
   "metadata": {},
   "source": [
    "Use python decorators to make the above code works"
   ]
  },
  {
   "cell_type": "code",
   "execution_count": null,
   "metadata": {},
   "outputs": [],
   "source": []
  }
 ],
 "metadata": {
  "kernelspec": {
   "display_name": "Python 3",
   "language": "python",
   "name": "python3"
  },
  "language_info": {
   "codemirror_mode": {
    "name": "ipython",
    "version": 3
   },
   "file_extension": ".py",
   "mimetype": "text/x-python",
   "name": "python",
   "nbconvert_exporter": "python",
   "pygments_lexer": "ipython3",
   "version": "3.8.5"
  }
 },
 "nbformat": 4,
 "nbformat_minor": 5
}
